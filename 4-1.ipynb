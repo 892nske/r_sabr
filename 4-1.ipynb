{
 "cells": [
  {
   "cell_type": "code",
   "execution_count": 1,
   "id": "77fbdbe9",
   "metadata": {},
   "outputs": [],
   "source": [
    "from pybaseball.lahman import *"
   ]
  },
  {
   "cell_type": "code",
   "execution_count": 3,
   "id": "71b3a0a7",
   "metadata": {},
   "outputs": [],
   "source": [
    "import pandas as pd"
   ]
  },
  {
   "cell_type": "code",
   "execution_count": 5,
   "id": "ed27dfb1",
   "metadata": {},
   "outputs": [],
   "source": [
    "# data/Teams.csvを読み込む  \n",
    "team = pd.read_csv('data/Teams.csv')"
   ]
  },
  {
   "cell_type": "code",
   "execution_count": null,
   "id": "337acbae",
   "metadata": {},
   "outputs": [],
   "source": []
  }
 ],
 "metadata": {
  "kernelspec": {
   "display_name": "py311",
   "language": "python",
   "name": "python3"
  },
  "language_info": {
   "codemirror_mode": {
    "name": "ipython",
    "version": 3
   },
   "file_extension": ".py",
   "mimetype": "text/x-python",
   "name": "python",
   "nbconvert_exporter": "python",
   "pygments_lexer": "ipython3",
   "version": "3.11.5"
  }
 },
 "nbformat": 4,
 "nbformat_minor": 5
}
